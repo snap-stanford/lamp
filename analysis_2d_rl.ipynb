{
 "cells": [
  {
   "cell_type": "code",
   "execution_count": null,
   "id": "7898a625-4e08-462a-b6b9-d957bde94c80",
   "metadata": {},
   "outputs": [],
   "source": [
    "import numpy as np"
   ]
  },
  {
   "cell_type": "code",
   "execution_count": null,
   "id": "a8032a60-9a72-495a-987d-3c1cba62aa97",
   "metadata": {},
   "outputs": [],
   "source": [
    "from glob import glob\n",
    "hashvas = [\n",
    "        \"ZFeuXMUJ_ampere1\",\n",
    "        ]\n",
    "\n",
    "a = glob(\"./results/LAMP_2d/{}_*_004/*/*/*[0-9].npy\".format(hashvas[0]))\n",
    "print(len(a),a[0])"
   ]
  },
  {
   "cell_type": "code",
   "execution_count": null,
   "id": "41cd7e87-8bcf-46bd-b2d0-f0bfddb4e894",
   "metadata": {},
   "outputs": [],
   "source": [
    "def get_num(hashva):\n",
    "    a = glob(\"./results/LAMP_2d/{}_*_004/*/*/*[0-9].npy\".format(hashvas[0]))\n",
    "    print(len(a),a[0])\n",
    "    all_trajs = []\n",
    "    all_loss_mse = []\n",
    "    all_state_size = []\n",
    "    all_state_size_remeshed = []\n",
    "    all_loss_alt_gt_evl_mse = []\n",
    "    all_loss_alt_008_gt_evl_mse = []\n",
    "    all_loss_alt_heursitc_gt_evl_mse = []\n",
    "    all_loss_alt_gt_mesh_gt_evl_mse = []\n",
    "    for j in range(len(a)):\n",
    "        \n",
    "        traj = np.load(a[j],allow_pickle=True)\n",
    "        if j==0:\n",
    "            print(traj.item().keys())\n",
    "        loss_mse,state_size,state_size_remeshed = traj.item()['loss_mse'],traj.item()['state_size_elm_list'],traj.item()['state_size']\n",
    "        loss_alt_gt_evl_mse = traj.item()['loss_alt_gt_evl_mse']\n",
    "        loss_alt_gt_mesh_gt_evl_mse = traj.item()['loss_alt_gt_mesh_gt_evl_mse']\n",
    "        loss_alt_008_gt_evl_mse = traj.item()['loss_alt_008_gt_evl_mse']\n",
    "        loss_alt_heursitc_gt_evl_mse = traj.item()['loss_heuristic_gt_evl_mse']\n",
    "        all_loss_mse.append(loss_mse)\n",
    "        all_state_size.append(state_size)\n",
    "        all_state_size_remeshed.append(state_size_remeshed)\n",
    "        all_loss_alt_gt_evl_mse.append(loss_alt_gt_evl_mse)\n",
    "        all_loss_alt_008_gt_evl_mse.append(loss_alt_008_gt_evl_mse)\n",
    "        all_loss_alt_heursitc_gt_evl_mse.append(loss_alt_heursitc_gt_evl_mse)\n",
    "        all_loss_alt_gt_mesh_gt_evl_mse.append(loss_alt_gt_mesh_gt_evl_mse)\n",
    "\n",
    "    pred_length = 20\n",
    "    all_state_size_average =  np.stack(all_state_size)[:,:pred_length].sum()\n",
    "    mses = ((np.stack(all_loss_mse)[:,:pred_length]).sum()/ all_state_size_average)\n",
    "    mses_alt_gt_evl_mse = ((np.stack(all_loss_alt_gt_evl_mse)[:,:pred_length]).sum()/ all_state_size_average)\n",
    "    mses_alt_gt_evl_gt_mesh_mse = ((np.stack(all_loss_alt_gt_mesh_gt_evl_mse)[:,:pred_length]).sum()/ all_state_size_average)\n",
    "    mses_alt_008_gt_evl_mse = ((np.stack(all_loss_alt_008_gt_evl_mse)[:,:pred_length]).sum()/ all_state_size_average)\n",
    "    mses_alt_heursitc_gt_evl_mse = ((np.stack(all_loss_alt_heursitc_gt_evl_mse)[:,:pred_length]).sum()/ all_state_size_average)\n",
    "\n",
    "    average_state_size_remeshed = ((np.stack(all_state_size_remeshed)[:,:pred_length]).sum())/len(all_state_size_remeshed)/pred_length\n",
    "    max_state_size_remeshed = ((np.stack(all_state_size_remeshed)[:,:pred_length])).max()\n",
    "\n",
    "    print(\"mses\",mses)\n",
    "    print(\"mses_alt_gt_evl_mse\",mses_alt_gt_evl_mse)\n",
    "    print(\"mses_alt_gt_mesh_gt_evl_mse\",mses_alt_gt_evl_gt_mesh_mse)\n",
    "    print(\"mses_alt_008_gt_evl_mse\",mses_alt_008_gt_evl_mse)\n",
    "    print(\"mses_alt_heursitc_gt_evl_mse\",mses_alt_heursitc_gt_evl_mse)\n",
    "    print(\"average_state_size_remeshed\",average_state_size_remeshed)\n",
    "    print(\"max_state_size_remeshed\",max_state_size_remeshed)\n",
    "    print(all_state_size_average/len(all_state_size_remeshed)/pred_length)\n",
    "    return all_state_size,all_state_size_remeshed"
   ]
  },
  {
   "cell_type": "code",
   "execution_count": null,
   "id": "2f269c3d-71a7-4af9-a9da-39f9797782a3",
   "metadata": {},
   "outputs": [],
   "source": [
    "for hashva in hashvas:\n",
    "    print(\"\\n\",hashva,\"\\n\")\n",
    "    all_state_size,all_state_size_remeshed = get_num(hashva)"
   ]
  },
  {
   "cell_type": "code",
   "execution_count": null,
   "id": "99e3b61f-2b5f-429f-b985-b59b3b1db637",
   "metadata": {},
   "outputs": [],
   "source": []
  },
  {
   "cell_type": "code",
   "execution_count": null,
   "id": "c9e097a3-75f5-4623-97cc-69ea9534966c",
   "metadata": {},
   "outputs": [],
   "source": []
  }
 ],
 "metadata": {
  "kernelspec": {
   "display_name": "meshrl",
   "language": "python",
   "name": "meshrl"
  }
 },
 "nbformat": 4,
 "nbformat_minor": 5
}
