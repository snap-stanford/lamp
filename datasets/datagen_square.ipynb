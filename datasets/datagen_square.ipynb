{
 "cells": [
  {
   "cell_type": "code",
   "execution_count": null,
   "metadata": {},
   "outputs": [],
   "source": [
    "import json\n",
    "import numpy as np\n",
    "import os\n",
    "\n",
    "num_traj = 1200"
   ]
  },
  {
   "cell_type": "code",
   "execution_count": null,
   "metadata": {},
   "outputs": [],
   "source": [
    "with open('./conf/square.json', 'r') as f:\n",
    "    temp_confdict = json.load(f)\n",
    "\n",
    "print(len(temp_confdict['motions']))\n",
    "\n",
    "for trajnum in range(num_traj):\n",
    "    with open('./conf/square.json', 'r') as f:\n",
    "        confdict = json.load(f)\n",
    "\n",
    "    for i in range(len(temp_confdict['motions'])):\n",
    "        numbers = np.arange(0, 0.46, 0.22).tolist()\n",
    "        chosen_list = np.random.choice(numbers, 2).tolist()\n",
    "        moment = [round(i, 2) for i in chosen_list]\n",
    "        moment.append(0)\n",
    "        \n",
    "\n",
    "        if i == 0:\n",
    "            confdict['motions'][i][1]['transform']['translate'] = moment\n",
    "            print(confdict['motions'][i][1]['transform']['translate'])\n",
    "            confdict['motions'][i][2]['transform']['translate'] = moment\n",
    "        elif i == 1:\n",
    "            confdict['motions'][i][1]['transform']['translate'] = [-1 * moment[0], moment[1], 0]\n",
    "            print(confdict['motions'][i][1]['transform']['translate'])\n",
    "            confdict['motions'][i][2]['transform']['translate'] = [-1 * moment[0], moment[1], 0]\n",
    "        elif i == 2:\n",
    "            confdict['motions'][i][1]['transform']['translate'] = [-1 * moment[0], -1 * moment[1], 0]\n",
    "            print(confdict['motions'][i][1]['transform']['translate'])\n",
    "            confdict['motions'][i][2]['transform']['translate'] = [-1 * moment[0], -1 * moment[1], 0]\n",
    "        elif i == 3:\n",
    "            confdict['motions'][i][1]['transform']['translate'] = [moment[0], -1 * moment[1], 0]\n",
    "            print(confdict['motions'][i][1]['transform']['translate'])\n",
    "            confdict['motions'][i][2]['transform']['translate'] = [moment[0], -1 * moment[1], 0]\n",
    "\n",
    "        \n",
    "    out_file = open('./square_conf/square_{:06d}.json'.format(trajnum), \"w\")   \n",
    "    json.dump(confdict, out_file, indent = 6)\n",
    "    out_file.close()\n",
    "    \n",
    "    print(confdict['motions'])\n",
    "    \n",
    "    os.system(\"mkdir ../lamp/data/arcsimmesh_data/raw/traj_{:06d}\".format(trajnum))\n",
    "    os.system(\"bin/arcsim simulateoffline ./square_conf/square_{:06d}.json ../lamp/data/arcsimmesh_data/raw/traj_{:06d}\".format(trajnum, trajnum))"
   ]
  }
 ],
 "metadata": {
  "kernelspec": {
   "display_name": "Python 3",
   "language": "python",
   "name": "python3"
  },
  "language_info": {
   "codemirror_mode": {
    "name": "ipython",
    "version": 3
   },
   "file_extension": ".py",
   "mimetype": "text/x-python",
   "name": "python",
   "nbconvert_exporter": "python",
   "pygments_lexer": "ipython3",
   "version": "3.8.10"
  }
 },
 "nbformat": 4,
 "nbformat_minor": 4
}
